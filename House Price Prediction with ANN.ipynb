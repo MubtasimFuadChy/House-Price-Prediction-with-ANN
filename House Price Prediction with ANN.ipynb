{
 "cells": [
  {
   "cell_type": "markdown",
   "id": "98aaae9a",
   "metadata": {},
   "source": [
    "# Project: House Price Prediction with ANN"
   ]
  },
  {
   "cell_type": "markdown",
   "id": "1ea06d48",
   "metadata": {},
   "source": [
    "# Importing Packages"
   ]
  },
  {
   "cell_type": "code",
   "execution_count": 2,
   "id": "93333d6f",
   "metadata": {},
   "outputs": [],
   "source": [
    "import numpy as np\n",
    "import pandas as pd\n",
    "from sklearn.model_selection import train_test_split\n",
    "from sklearn.preprocessing import StandardScaler\n",
    "import tensorflow as tf\n",
    "from tensorflow.keras.models import Sequential\n",
    "from tensorflow.keras.layers import Dense"
   ]
  },
  {
   "cell_type": "markdown",
   "id": "ef1aa5f9",
   "metadata": {},
   "source": [
    "# Set a random seed for reproducibility"
   ]
  },
  {
   "cell_type": "code",
   "execution_count": 3,
   "id": "d8de8cb3",
   "metadata": {},
   "outputs": [],
   "source": [
    "np.random.seed(42)"
   ]
  },
  {
   "cell_type": "markdown",
   "id": "82a1e328",
   "metadata": {},
   "source": [
    "# Generate synthetic data"
   ]
  },
  {
   "cell_type": "code",
   "execution_count": 4,
   "id": "5918065d",
   "metadata": {},
   "outputs": [],
   "source": [
    "num_samples = 1000\n",
    "\n",
    "bedrooms = np.random.randint(1, 6, size=num_samples)\n",
    "bathrooms = np.random.uniform(1, 4, size=num_samples)\n",
    "square_footage = np.random.randint(800, 3000, size=num_samples)\n",
    "year_built = np.random.randint(1950, 2022, size=num_samples)\n",
    "garage_capacity = np.random.randint(0, 4, size=num_samples)\n",
    "house_price = 150000 + 200 * bedrooms + 300 * bathrooms + 100 * square_footage + 500 * garage_capacity + np.random.normal(0, 20000, size=num_samples)"
   ]
  },
  {
   "cell_type": "markdown",
   "id": "de1b0b04",
   "metadata": {},
   "source": [
    "# Create a DataFrame"
   ]
  },
  {
   "cell_type": "code",
   "execution_count": 5,
   "id": "41ede26f",
   "metadata": {},
   "outputs": [],
   "source": [
    "columns = ['Bedrooms', 'Bathrooms', 'SquareFootage', 'YearBuilt', 'GarageCapacity', 'HousePrice']\n",
    "df = pd.DataFrame(list(zip(bedrooms, bathrooms, square_footage, year_built, garage_capacity, house_price)),\n",
    "                  columns=columns)"
   ]
  },
  {
   "cell_type": "markdown",
   "id": "1296086d",
   "metadata": {},
   "source": [
    "# Split the dataset into features (X) and target variable (y)"
   ]
  },
  {
   "cell_type": "code",
   "execution_count": 6,
   "id": "7c487d17",
   "metadata": {},
   "outputs": [],
   "source": [
    "X = df.drop('HousePrice', axis=1)\n",
    "y = df['HousePrice']"
   ]
  },
  {
   "cell_type": "markdown",
   "id": "8c8d8501",
   "metadata": {},
   "source": [
    "# Split the data into training and testing sets"
   ]
  },
  {
   "cell_type": "code",
   "execution_count": 7,
   "id": "90bab80c",
   "metadata": {},
   "outputs": [],
   "source": [
    "X_train, X_test, y_train, y_test = train_test_split(X, y, test_size=0.2, random_state=42)"
   ]
  },
  {
   "cell_type": "markdown",
   "id": "f3efde1a",
   "metadata": {},
   "source": [
    "# Standardize the features"
   ]
  },
  {
   "cell_type": "code",
   "execution_count": 8,
   "id": "610fdc3f",
   "metadata": {},
   "outputs": [],
   "source": [
    "scaler = StandardScaler()\n",
    "X_train_scaled = scaler.fit_transform(X_train)\n",
    "X_test_scaled = scaler.transform(X_test)"
   ]
  },
  {
   "cell_type": "markdown",
   "id": "1379dfaf",
   "metadata": {},
   "source": [
    "# Build the neural network model"
   ]
  },
  {
   "cell_type": "code",
   "execution_count": 9,
   "id": "7884203d",
   "metadata": {},
   "outputs": [],
   "source": [
    "model = Sequential()\n",
    "model.add(Dense(32, activation='relu', input_dim=X_train.shape[1]))\n",
    "model.add(Dense(16, activation='relu'))\n",
    "model.add(Dense(1, activation='linear'))  # Linear activation for regression\n",
    "model.compile(optimizer='adam', loss='mean_squared_error')"
   ]
  },
  {
   "cell_type": "markdown",
   "id": "4d459818",
   "metadata": {},
   "source": [
    "# Train the model"
   ]
  },
  {
   "cell_type": "code",
   "execution_count": 10,
   "id": "e3ba0c73",
   "metadata": {},
   "outputs": [
    {
     "name": "stdout",
     "output_type": "stream",
     "text": [
      "Epoch 1/50\n",
      "25/25 - 1s - loss: 124123848704.0000 - 621ms/epoch - 25ms/step\n",
      "Epoch 2/50\n",
      "25/25 - 0s - loss: 124123316224.0000 - 57ms/epoch - 2ms/step\n",
      "Epoch 3/50\n",
      "25/25 - 0s - loss: 124122537984.0000 - 66ms/epoch - 3ms/step\n",
      "Epoch 4/50\n",
      "25/25 - 0s - loss: 124121399296.0000 - 49ms/epoch - 2ms/step\n",
      "Epoch 5/50\n",
      "25/25 - 0s - loss: 124119777280.0000 - 51ms/epoch - 2ms/step\n",
      "Epoch 6/50\n",
      "25/25 - 0s - loss: 124117434368.0000 - 47ms/epoch - 2ms/step\n",
      "Epoch 7/50\n",
      "25/25 - 0s - loss: 124114165760.0000 - 53ms/epoch - 2ms/step\n",
      "Epoch 8/50\n",
      "25/25 - 0s - loss: 124109873152.0000 - 53ms/epoch - 2ms/step\n",
      "Epoch 9/50\n",
      "25/25 - 0s - loss: 124104204288.0000 - 48ms/epoch - 2ms/step\n",
      "Epoch 10/50\n",
      "25/25 - 0s - loss: 124097036288.0000 - 53ms/epoch - 2ms/step\n",
      "Epoch 11/50\n",
      "25/25 - 0s - loss: 124088188928.0000 - 48ms/epoch - 2ms/step\n",
      "Epoch 12/50\n",
      "25/25 - 0s - loss: 124077441024.0000 - 51ms/epoch - 2ms/step\n",
      "Epoch 13/50\n",
      "25/25 - 0s - loss: 124064636928.0000 - 48ms/epoch - 2ms/step\n",
      "Epoch 14/50\n",
      "25/25 - 0s - loss: 124049612800.0000 - 48ms/epoch - 2ms/step\n",
      "Epoch 15/50\n",
      "25/25 - 0s - loss: 124032188416.0000 - 48ms/epoch - 2ms/step\n",
      "Epoch 16/50\n",
      "25/25 - 0s - loss: 124012199936.0000 - 50ms/epoch - 2ms/step\n",
      "Epoch 17/50\n",
      "25/25 - 0s - loss: 123989516288.0000 - 48ms/epoch - 2ms/step\n",
      "Epoch 18/50\n",
      "25/25 - 0s - loss: 123963940864.0000 - 47ms/epoch - 2ms/step\n",
      "Epoch 19/50\n",
      "25/25 - 0s - loss: 123935342592.0000 - 239ms/epoch - 10ms/step\n",
      "Epoch 20/50\n",
      "25/25 - 0s - loss: 123903475712.0000 - 51ms/epoch - 2ms/step\n",
      "Epoch 21/50\n",
      "25/25 - 0s - loss: 123868209152.0000 - 59ms/epoch - 2ms/step\n",
      "Epoch 22/50\n",
      "25/25 - 0s - loss: 123829518336.0000 - 69ms/epoch - 3ms/step\n",
      "Epoch 23/50\n",
      "25/25 - 0s - loss: 123787329536.0000 - 65ms/epoch - 3ms/step\n",
      "Epoch 24/50\n",
      "25/25 - 0s - loss: 123741167616.0000 - 65ms/epoch - 3ms/step\n",
      "Epoch 25/50\n",
      "25/25 - 0s - loss: 123691343872.0000 - 63ms/epoch - 3ms/step\n",
      "Epoch 26/50\n",
      "25/25 - 0s - loss: 123637596160.0000 - 65ms/epoch - 3ms/step\n",
      "Epoch 27/50\n",
      "25/25 - 0s - loss: 123579703296.0000 - 57ms/epoch - 2ms/step\n",
      "Epoch 28/50\n",
      "25/25 - 0s - loss: 123517337600.0000 - 60ms/epoch - 2ms/step\n",
      "Epoch 29/50\n",
      "25/25 - 0s - loss: 123450843136.0000 - 64ms/epoch - 3ms/step\n",
      "Epoch 30/50\n",
      "25/25 - 0s - loss: 123380121600.0000 - 65ms/epoch - 3ms/step\n",
      "Epoch 31/50\n",
      "25/25 - 0s - loss: 123304681472.0000 - 62ms/epoch - 2ms/step\n",
      "Epoch 32/50\n",
      "25/25 - 0s - loss: 123224842240.0000 - 69ms/epoch - 3ms/step\n",
      "Epoch 33/50\n",
      "25/25 - 0s - loss: 123140161536.0000 - 60ms/epoch - 2ms/step\n",
      "Epoch 34/50\n",
      "25/25 - 0s - loss: 123050541056.0000 - 62ms/epoch - 2ms/step\n",
      "Epoch 35/50\n",
      "25/25 - 0s - loss: 122955661312.0000 - 60ms/epoch - 2ms/step\n",
      "Epoch 36/50\n",
      "25/25 - 0s - loss: 122856677376.0000 - 59ms/epoch - 2ms/step\n",
      "Epoch 37/50\n",
      "25/25 - 0s - loss: 122751647744.0000 - 57ms/epoch - 2ms/step\n",
      "Epoch 38/50\n",
      "25/25 - 0s - loss: 122641498112.0000 - 52ms/epoch - 2ms/step\n",
      "Epoch 39/50\n",
      "25/25 - 0s - loss: 122526261248.0000 - 53ms/epoch - 2ms/step\n",
      "Epoch 40/50\n",
      "25/25 - 0s - loss: 122407092224.0000 - 53ms/epoch - 2ms/step\n",
      "Epoch 41/50\n",
      "25/25 - 0s - loss: 122280116224.0000 - 53ms/epoch - 2ms/step\n",
      "Epoch 42/50\n",
      "25/25 - 0s - loss: 122149658624.0000 - 49ms/epoch - 2ms/step\n",
      "Epoch 43/50\n",
      "25/25 - 0s - loss: 122012114944.0000 - 52ms/epoch - 2ms/step\n",
      "Epoch 44/50\n",
      "25/25 - 0s - loss: 121870745600.0000 - 52ms/epoch - 2ms/step\n",
      "Epoch 45/50\n",
      "25/25 - 0s - loss: 121721847808.0000 - 55ms/epoch - 2ms/step\n",
      "Epoch 46/50\n",
      "25/25 - 0s - loss: 121567830016.0000 - 52ms/epoch - 2ms/step\n",
      "Epoch 47/50\n",
      "25/25 - 0s - loss: 121408552960.0000 - 56ms/epoch - 2ms/step\n",
      "Epoch 48/50\n",
      "25/25 - 0s - loss: 121243017216.0000 - 53ms/epoch - 2ms/step\n",
      "Epoch 49/50\n",
      "25/25 - 0s - loss: 121071796224.0000 - 57ms/epoch - 2ms/step\n",
      "Epoch 50/50\n",
      "25/25 - 0s - loss: 120895348736.0000 - 51ms/epoch - 2ms/step\n"
     ]
    },
    {
     "data": {
      "text/plain": [
       "<keras.callbacks.History at 0x28113cd7e20>"
      ]
     },
     "execution_count": 10,
     "metadata": {},
     "output_type": "execute_result"
    }
   ],
   "source": [
    "model.fit(X_train_scaled, y_train, epochs=50, batch_size=32, verbose=2)"
   ]
  },
  {
   "cell_type": "markdown",
   "id": "73ab2fe0",
   "metadata": {},
   "source": [
    "# Evaluate the model on the test set"
   ]
  },
  {
   "cell_type": "code",
   "execution_count": 11,
   "id": "1f0c0e7b",
   "metadata": {},
   "outputs": [
    {
     "name": "stdout",
     "output_type": "stream",
     "text": [
      "Mean Squared Error on Test Set: 125340844032.0\n"
     ]
    }
   ],
   "source": [
    "mse = model.evaluate(X_test_scaled, y_test, verbose=0)\n",
    "print(f'Mean Squared Error on Test Set: {mse}')"
   ]
  },
  {
   "cell_type": "markdown",
   "id": "29973979",
   "metadata": {},
   "source": [
    "# Make predictions on new data"
   ]
  },
  {
   "cell_type": "code",
   "execution_count": 12,
   "id": "80d526d7",
   "metadata": {},
   "outputs": [
    {
     "name": "stdout",
     "output_type": "stream",
     "text": [
      "1/1 [==============================] - ETA: 0s"
     ]
    },
    {
     "name": "stderr",
     "output_type": "stream",
     "text": [
      "C:\\Users\\hp\\anaconda\\lib\\site-packages\\sklearn\\base.py:420: UserWarning: X does not have valid feature names, but StandardScaler was fitted with feature names\n",
      "  warnings.warn(\n"
     ]
    },
    {
     "name": "stdout",
     "output_type": "stream",
     "text": [
      "1/1 [==============================] - 0s 114ms/step\n",
      "Predicted House Price: 2792.986328125\n"
     ]
    }
   ],
   "source": [
    "new_data = np.array([[3, 2, 2000, 2000, 1]])  # Adjust values as needed\n",
    "new_data_scaled = scaler.transform(new_data)\n",
    "predicted_price = model.predict(new_data_scaled)\n",
    "print(f'Predicted House Price: {predicted_price[0][0]}')"
   ]
  }
 ],
 "metadata": {
  "kernelspec": {
   "display_name": "Python 3 (ipykernel)",
   "language": "python",
   "name": "python3"
  },
  "language_info": {
   "codemirror_mode": {
    "name": "ipython",
    "version": 3
   },
   "file_extension": ".py",
   "mimetype": "text/x-python",
   "name": "python",
   "nbconvert_exporter": "python",
   "pygments_lexer": "ipython3",
   "version": "3.10.9"
  }
 },
 "nbformat": 4,
 "nbformat_minor": 5
}
